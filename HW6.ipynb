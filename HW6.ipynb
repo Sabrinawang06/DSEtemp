{
 "cells": [
  {
   "cell_type": "code",
   "execution_count": 124,
   "id": "victorian-explorer",
   "metadata": {},
   "outputs": [],
   "source": [
    "import pandas as pd\n",
    "import numpy as np\n",
    "import matplotlib.pyplot as plt\n",
    "import copy\n",
    "from sklearn.decomposition import PCA\n",
    "from sklearn.preprocessing import StandardScaler\n",
    "from sklearn.model_selection import train_test_split\n",
    "from sklearn.neighbors import KNeighborsClassifier \n",
    "from sklearn.neighbors import NearestNeighbors\n",
    "from sklearn.metrics import accuracy_score"
   ]
  },
  {
   "cell_type": "code",
   "execution_count": 2,
   "id": "preceding-wisconsin",
   "metadata": {},
   "outputs": [],
   "source": [
    "file = 'default_plus_chromatic_features_1059_tracks.txt'\n",
    "dat = pd.read_csv(file, header=None)\n",
    "X = dat.iloc[:,:-2]\n",
    "y, orig = pd.factorize(dat.iloc[:,-1])"
   ]
  },
  {
   "cell_type": "code",
   "execution_count": 5,
   "id": "bibliographic-subscriber",
   "metadata": {},
   "outputs": [],
   "source": [
    "# Split the data\n",
    "\n",
    "X_train, X_test, y_train, y_test = train_test_split(X, y, test_size=0.2)\n",
    "scaler = StandardScaler().fit(X_train)\n",
    "\n",
    "X_train = scaler.transform(X_train)\n",
    "X_test = scaler.transform(X_test)\n"
   ]
  },
  {
   "cell_type": "code",
   "execution_count": 14,
   "id": "ideal-federal",
   "metadata": {},
   "outputs": [],
   "source": [
    "# Construct the empricial covariance matrix\n",
    "\n",
    "Xcov = (1/(Xmat_std.shape[0]-1))*np.dot(X_train.T, X_train)"
   ]
  },
  {
   "cell_type": "code",
   "execution_count": 15,
   "id": "frozen-dairy",
   "metadata": {},
   "outputs": [
    {
     "data": {
      "text/plain": [
       "(116, 116)"
      ]
     },
     "execution_count": 15,
     "metadata": {},
     "output_type": "execute_result"
    }
   ],
   "source": [
    "Xcov.shape"
   ]
  },
  {
   "cell_type": "markdown",
   "id": "advisory-explorer",
   "metadata": {},
   "source": [
    "### Power Iteratoin and the first PC"
   ]
  },
  {
   "cell_type": "code",
   "execution_count": 96,
   "id": "welcome-guard",
   "metadata": {},
   "outputs": [],
   "source": [
    "# Power Iteration \n",
    "def power_iteration(mat, max_iter = 100):\n",
    "        v = np.ones(mat.shape[0])\n",
    "        \n",
    "        for i in range(max_iter):\n",
    "            z = mat @ v\n",
    "            v = z/np.linalg.norm(z)\n",
    "        \n",
    "        lambda_ = v.T@mat@v\n",
    "        \n",
    "        return lambda_, v"
   ]
  },
  {
   "cell_type": "code",
   "execution_count": 97,
   "id": "proprietary-brick",
   "metadata": {},
   "outputs": [],
   "source": [
    "lam, v = power_iteration(Xcov)"
   ]
  },
  {
   "cell_type": "code",
   "execution_count": 99,
   "id": "violent-blast",
   "metadata": {},
   "outputs": [
    {
     "data": {
      "text/plain": [
       "2.7056085028033464e-12"
      ]
     },
     "execution_count": 99,
     "metadata": {},
     "output_type": "execute_result"
    }
   ],
   "source": [
    "pca = PCA(n_components=1).fit(X_train) # get the top PCA component \n",
    "np.linalg.norm(pca.components_ - v)"
   ]
  },
  {
   "cell_type": "code",
   "execution_count": 101,
   "id": "authorized-antarctica",
   "metadata": {},
   "outputs": [
    {
     "data": {
      "text/plain": [
       "(43.71425766632031, 43.7142576663203)"
      ]
     },
     "execution_count": 101,
     "metadata": {},
     "output_type": "execute_result"
    }
   ],
   "source": [
    "pca.explained_variance_[0], v.T@Xcov@v"
   ]
  },
  {
   "cell_type": "markdown",
   "id": "phantom-paint",
   "metadata": {},
   "source": [
    "The difference between output v from the power iteration and the top compoenent of PCA is nearly zero. Egiven values are about the same also.  "
   ]
  },
  {
   "cell_type": "markdown",
   "id": "downtown-product",
   "metadata": {},
   "source": [
    "### Deflated covatiance matrix and Second PC"
   ]
  },
  {
   "cell_type": "code",
   "execution_count": 102,
   "id": "announced-bibliography",
   "metadata": {},
   "outputs": [],
   "source": [
    "# Compute the delafted covariance matrix \n",
    "\n",
    "Xcov_deflate = Xcov - lam*np.outer(v,v.T)"
   ]
  },
  {
   "cell_type": "code",
   "execution_count": 103,
   "id": "cathedral-party",
   "metadata": {},
   "outputs": [],
   "source": [
    "lam2, v2  = power_iteration(Xcov_deflate)"
   ]
  },
  {
   "cell_type": "code",
   "execution_count": 104,
   "id": "protecting-graduation",
   "metadata": {},
   "outputs": [
    {
     "data": {
      "text/plain": [
       "5.865592921007979e-09"
      ]
     },
     "execution_count": 104,
     "metadata": {},
     "output_type": "execute_result"
    }
   ],
   "source": [
    "pca2 = PCA(n_components=2).fit(X_train) # get the top PCA component \n",
    "np.linalg.norm(pca2.components_[1] - v2)"
   ]
  },
  {
   "cell_type": "code",
   "execution_count": 106,
   "id": "found-incentive",
   "metadata": {},
   "outputs": [
    {
     "data": {
      "text/plain": [
       "(13.017911061954894, 13.01791106195488)"
      ]
     },
     "execution_count": 106,
     "metadata": {},
     "output_type": "execute_result"
    }
   ],
   "source": [
    "pca2.explained_variance_[1], lam2"
   ]
  },
  {
   "cell_type": "markdown",
   "id": "occasional-madness",
   "metadata": {},
   "source": [
    "### Propose for computing the $k^{th}$ largest eigenvector of X"
   ]
  },
  {
   "cell_type": "code",
   "execution_count": 110,
   "id": "first-albany",
   "metadata": {},
   "outputs": [],
   "source": [
    "def power_iteration_k(mat, k, max_iter = 100):\n",
    "    for order in range(k):\n",
    "        \n",
    "        v = np.ones(mat.shape[0])\n",
    "        \n",
    "        for i in range(max_iter):\n",
    "            z = mat @ v\n",
    "            v = z/np.linalg.norm(z)\n",
    "        \n",
    "        lambda_ = v.T@mat@v\n",
    "        \n",
    "        mat = mat -  lambda_*np.outer(v,v.T)\n",
    "    \n",
    "    return lambda_, v"
   ]
  },
  {
   "cell_type": "code",
   "execution_count": 113,
   "id": "finnish-hundred",
   "metadata": {},
   "outputs": [],
   "source": [
    "# Confirm for the 3rd PC\n",
    "lam3, v = power_iteration_k(Xcov,3)"
   ]
  },
  {
   "cell_type": "code",
   "execution_count": 114,
   "id": "molecular-public",
   "metadata": {},
   "outputs": [
    {
     "data": {
      "text/plain": [
       "(8.453858230413882, 8.453858230418561)"
      ]
     },
     "execution_count": 114,
     "metadata": {},
     "output_type": "execute_result"
    }
   ],
   "source": [
    "pca3 = PCA(n_components=3).fit(X_train) \n",
    "pca3.explained_variance_[2], lam3"
   ]
  },
  {
   "cell_type": "markdown",
   "id": "prescription-metropolitan",
   "metadata": {},
   "source": [
    "### Select the top 20 principal compnents"
   ]
  },
  {
   "cell_type": "code",
   "execution_count": 116,
   "id": "compatible-stake",
   "metadata": {},
   "outputs": [],
   "source": [
    "X_train_proj = PCA(n_components=20).fit_transform(X_train) "
   ]
  },
  {
   "cell_type": "code",
   "execution_count": 120,
   "id": "practical-scotland",
   "metadata": {},
   "outputs": [],
   "source": [
    "knn_proj = NearestNeighbors(n_neighbors=1).fit(X_train_proj)\n",
    "knn= NearestNeighbors(n_neighbors=1).fit(X_train)"
   ]
  },
  {
   "cell_type": "code",
   "execution_count": 131,
   "id": "welsh-butter",
   "metadata": {},
   "outputs": [],
   "source": [
    "knn_proj = KNeighborsClassifier(n_neighbors=1).fit(X_train_proj,y_train)\n",
    "knn= KNeighborsClassifier(n_neighbors=1).fit(X_train,y_train)"
   ]
  },
  {
   "cell_type": "code",
   "execution_count": 132,
   "id": "indirect-template",
   "metadata": {},
   "outputs": [],
   "source": [
    "X_test_proj = PCA(n_components=20).fit(X_train).transform(X_test)"
   ]
  },
  {
   "cell_type": "code",
   "execution_count": 133,
   "id": "northern-stand",
   "metadata": {},
   "outputs": [],
   "source": [
    "proj_acc = accuracy_score(y_test, knn_proj.predict(X_test_proj))\n",
    "acc = accuracy_score(y_test, knn.predict(X_test))"
   ]
  },
  {
   "cell_type": "code",
   "execution_count": 134,
   "id": "relative-scout",
   "metadata": {},
   "outputs": [
    {
     "data": {
      "text/plain": [
       "(0.36792452830188677, 0.39622641509433965)"
      ]
     },
     "execution_count": 134,
     "metadata": {},
     "output_type": "execute_result"
    }
   ],
   "source": [
    "proj_acc, acc"
   ]
  },
  {
   "cell_type": "markdown",
   "id": "capable-direction",
   "metadata": {},
   "source": [
    "The accuracy score is higher for unproject data"
   ]
  },
  {
   "cell_type": "markdown",
   "id": "decimal-attention",
   "metadata": {},
   "source": [
    "### Bonus"
   ]
  },
  {
   "cell_type": "code",
   "execution_count": 165,
   "id": "dried-exclusion",
   "metadata": {},
   "outputs": [],
   "source": [
    "# New stopping criterion: if the lambda stops changing (change less than a threshold), stop the iteration \n",
    "\n",
    "def power_iteration_new(mat, min_change = 1e-15):\n",
    "        v = np.ones(mat.shape[0])\n",
    "        lam = [0,1]\n",
    "        \n",
    "        while lam[-1]-lam[-2] > min_change:\n",
    "            z = mat @ v\n",
    "            v = z/np.linalg.norm(z)\n",
    "        \n",
    "            lam.append(v.T@mat@v)\n",
    "        \n",
    "        return lam[-1], v"
   ]
  },
  {
   "cell_type": "code",
   "execution_count": 166,
   "id": "statewide-zambia",
   "metadata": {},
   "outputs": [],
   "source": [
    "lam, v = power_iteration_new(Xcov)"
   ]
  },
  {
   "cell_type": "code",
   "execution_count": 167,
   "id": "spoken-manhattan",
   "metadata": {},
   "outputs": [
    {
     "data": {
      "text/plain": [
       "2.3348809330661454e-09"
      ]
     },
     "execution_count": 167,
     "metadata": {},
     "output_type": "execute_result"
    }
   ],
   "source": [
    "pca = PCA(n_components=1).fit(X_train) # get the top PCA component \n",
    "np.linalg.norm(pca.components_ - v)"
   ]
  },
  {
   "cell_type": "code",
   "execution_count": 169,
   "id": "unable-coffee",
   "metadata": {},
   "outputs": [
    {
     "data": {
      "text/plain": [
       "(43.71425766632031, 43.714257666320265)"
      ]
     },
     "execution_count": 169,
     "metadata": {},
     "output_type": "execute_result"
    }
   ],
   "source": [
    "lam,pca.explained_variance_[0]"
   ]
  },
  {
   "cell_type": "markdown",
   "id": "attached-clinton",
   "metadata": {},
   "source": [
    "Given minimum changing threshold of 1e-5, the new algoritm performs the same as the old power iteration. "
   ]
  },
  {
   "cell_type": "code",
   "execution_count": null,
   "id": "informed-turning",
   "metadata": {},
   "outputs": [],
   "source": []
  }
 ],
 "metadata": {
  "kernelspec": {
   "display_name": "Python [conda env:DATA558] *",
   "language": "python",
   "name": "conda-env-DATA558-py"
  },
  "language_info": {
   "codemirror_mode": {
    "name": "ipython",
    "version": 3
   },
   "file_extension": ".py",
   "mimetype": "text/x-python",
   "name": "python",
   "nbconvert_exporter": "python",
   "pygments_lexer": "ipython3",
   "version": "3.7.10"
  }
 },
 "nbformat": 4,
 "nbformat_minor": 5
}
